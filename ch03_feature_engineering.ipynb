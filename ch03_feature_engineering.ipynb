{
 "cells": [
  {
   "cell_type": "markdown",
   "id": "964a4eee-3bdf-4977-b53b-53ae96f2c320",
   "metadata": {},
   "source": [
    "# Chapter #3: Feature Engineering"
   ]
  },
  {
   "cell_type": "code",
   "execution_count": 1,
   "id": "49ed7f11-279f-4bf2-a35a-7a5f7e8a8394",
   "metadata": {},
   "outputs": [],
   "source": [
    "import numpy as np\n",
    "import pandas as pd\n",
    "import re\n",
    "from sklearn.preprocessing import LabelEncoder\n",
    "from sklearn.feature_extraction.text import TfidfVectorizer\n",
    "from sklearn.model_selection import train_test_split\n",
    "from sklearn.naive_bayes import GaussianNB"
   ]
  },
  {
   "cell_type": "markdown",
   "id": "1a4b3b71-ae15-4299-ac79-14e0c9c25042",
   "metadata": {},
   "source": [
    "## 1. Feature engineering"
   ]
  },
  {
   "cell_type": "markdown",
   "id": "98e1fef1-81ce-470d-b2b8-17c3098c7301",
   "metadata": {},
   "source": [
    "1. Feature engineering\n",
    "> In this chapter, we're going to talk about a very important part of the preprocessing workflow: feature engineering.\n",
    "\n",
    "2. What is feature engineering?\n",
    "> Feature engineering is the creation of new features based on existing features, and it adds information to your dataset that is useful in some way: it adds features useful for your prediction or clustering task, or it sheds insight into relationships between features. Real world data is often not neat and tidy, and in addition to preprocessing steps like standardization, you'll likely have to extract and expand information that exists in the columns in your dataset. Feature engineering is a subject that could definitely be given its own entire course, so we're just going to go over some basics in this chapter. There are automated ways to create new features, but for now we're going to cover manual methods of feature engineering. These methods require you to have an in-depth knowledge of the dataset that you're working with. Feature engineering is also something that is very dependent on the particular dataset you're analyzing. The goal for this chapter is to demonstrate some scenarios in which feature engineering is useful, but it is by no means comprehensive of all feature engineering methods. It really depends on the dataset you're working with and the model you're building.\n",
    "\n",
    "3. Feature engineering scenarios\n",
    "> There are a variety of scenarios in which you might want to engineer features from existing data. An extremely common one is with text data. For example, if you're building some kind of natural language processing model, you'll have to create a vector of the words in your dataset. Another scenario might also be related to string data: maybe you have a column which records people's favorite colors. In order to feed this information into a model in scikit-learn, you'll have to encode this information numerically.\n",
    "\n",
    "4. Feature engineering scenarios\n",
    "> Another common example is with timestamps. You might see a full timestamp that includes the time down to the second or millisecond, which might be much too granular for a prediction task, so you'll want to create a new column with the day or the month. Perhaps a column contains a list of some kind: test scores, or running times, and maybe it's more useful to use an average. These are all examples of situations in which you want to generate new features from existing columns.\n",
    "\n",
    "5. Let's practice!\n",
    "Let's take a look at a dataset to determine where feature engineering might be useful."
   ]
  },
  {
   "cell_type": "markdown",
   "id": "8e7184d6-b8e2-40ff-a57e-fa1991189bf6",
   "metadata": {},
   "source": [
    "### 1.1. Feature engineering knowledge test"
   ]
  },
  {
   "cell_type": "markdown",
   "id": "b055aa2c-dc8a-4141-a3e7-b5a5527202fe",
   "metadata": {},
   "source": [
    "Now that you've learned about feature engineering, which of the following examples are good candidates for creating new features?"
   ]
  },
  {
   "cell_type": "markdown",
   "id": "e576e56e-7c36-4f56-a234-cb7a2ca1c490",
   "metadata": {},
   "source": [
    "Possible Answers:\n",
    "- A column of timestamps.\n",
    "- A column of newspaper headlines.\n",
    "- A column of weight measurements.\n",
    "- 1 and 2.\n",
    "- None of the above."
   ]
  },
  {
   "cell_type": "markdown",
   "id": "df470338-99a5-41c4-8df6-f1ba65e9ba71",
   "metadata": {},
   "source": [
    "> 1 and 2."
   ]
  },
  {
   "cell_type": "markdown",
   "id": "834e9ccd-2208-43c9-9c39-b00c4dc7cc48",
   "metadata": {},
   "source": [
    "### 1.2. Identifying areas for feature engineering"
   ]
  },
  {
   "cell_type": "markdown",
   "id": "2c8e24dc-07cf-4c3e-8809-d44344b71cc4",
   "metadata": {},
   "source": [
    "Take an exploratory look at the `volunteer` dataset, using the variable of that name. Which of the following columns would you want to perform a feature engineering task on?"
   ]
  },
  {
   "cell_type": "markdown",
   "id": "e9fa576c-82d5-4b27-951d-b86097ccec6f",
   "metadata": {},
   "source": [
    "- Getting everything ready."
   ]
  },
  {
   "cell_type": "code",
   "execution_count": 2,
   "id": "f46e14e8-dd23-437f-bc05-9bd03b1367db",
   "metadata": {},
   "outputs": [],
   "source": [
    "# Reading the data & make sure that hits column is imported as a str:\n",
    "volunteer = pd.read_csv(\"./data/volunteering.csv\", dtype={'hits': str})"
   ]
  },
  {
   "cell_type": "code",
   "execution_count": 3,
   "id": "a169d942-0198-45ca-82a9-411b4c0cf296",
   "metadata": {},
   "outputs": [
    {
     "data": {
      "text/plain": [
       "(665, 35)"
      ]
     },
     "execution_count": 3,
     "metadata": {},
     "output_type": "execute_result"
    }
   ],
   "source": [
    "# Exploring the shape:\n",
    "volunteer.shape"
   ]
  },
  {
   "cell_type": "code",
   "execution_count": 4,
   "id": "1a3b270b-c766-4ea6-b413-2f617a2e4dbd",
   "metadata": {},
   "outputs": [
    {
     "data": {
      "text/html": [
       "<div>\n",
       "<style scoped>\n",
       "    .dataframe tbody tr th:only-of-type {\n",
       "        vertical-align: middle;\n",
       "    }\n",
       "\n",
       "    .dataframe tbody tr th {\n",
       "        vertical-align: top;\n",
       "    }\n",
       "\n",
       "    .dataframe thead th {\n",
       "        text-align: right;\n",
       "    }\n",
       "</style>\n",
       "<table border=\"1\" class=\"dataframe\">\n",
       "  <thead>\n",
       "    <tr style=\"text-align: right;\">\n",
       "      <th></th>\n",
       "      <th>opportunity_id</th>\n",
       "      <th>content_id</th>\n",
       "      <th>vol_requests</th>\n",
       "      <th>event_time</th>\n",
       "      <th>title</th>\n",
       "      <th>hits</th>\n",
       "      <th>summary</th>\n",
       "      <th>is_priority</th>\n",
       "      <th>category_id</th>\n",
       "      <th>category_desc</th>\n",
       "      <th>...</th>\n",
       "      <th>end_date_date</th>\n",
       "      <th>status</th>\n",
       "      <th>Latitude</th>\n",
       "      <th>Longitude</th>\n",
       "      <th>Community Board</th>\n",
       "      <th>Community Council</th>\n",
       "      <th>Census Tract</th>\n",
       "      <th>BIN</th>\n",
       "      <th>BBL</th>\n",
       "      <th>NTA</th>\n",
       "    </tr>\n",
       "  </thead>\n",
       "  <tbody>\n",
       "    <tr>\n",
       "      <th>0</th>\n",
       "      <td>4996</td>\n",
       "      <td>37004</td>\n",
       "      <td>50</td>\n",
       "      <td>0</td>\n",
       "      <td>Volunteers Needed For Rise Up &amp; Stay Put! Home...</td>\n",
       "      <td>737</td>\n",
       "      <td>Building on successful events last summer and ...</td>\n",
       "      <td>NaN</td>\n",
       "      <td>NaN</td>\n",
       "      <td>NaN</td>\n",
       "      <td>...</td>\n",
       "      <td>July 30 2011</td>\n",
       "      <td>approved</td>\n",
       "      <td>NaN</td>\n",
       "      <td>NaN</td>\n",
       "      <td>NaN</td>\n",
       "      <td>NaN</td>\n",
       "      <td>NaN</td>\n",
       "      <td>NaN</td>\n",
       "      <td>NaN</td>\n",
       "      <td>NaN</td>\n",
       "    </tr>\n",
       "    <tr>\n",
       "      <th>1</th>\n",
       "      <td>5008</td>\n",
       "      <td>37036</td>\n",
       "      <td>2</td>\n",
       "      <td>0</td>\n",
       "      <td>Web designer</td>\n",
       "      <td>22</td>\n",
       "      <td>Build a website for an Afghan business</td>\n",
       "      <td>NaN</td>\n",
       "      <td>1.0</td>\n",
       "      <td>Strengthening Communities</td>\n",
       "      <td>...</td>\n",
       "      <td>February 01 2011</td>\n",
       "      <td>approved</td>\n",
       "      <td>NaN</td>\n",
       "      <td>NaN</td>\n",
       "      <td>NaN</td>\n",
       "      <td>NaN</td>\n",
       "      <td>NaN</td>\n",
       "      <td>NaN</td>\n",
       "      <td>NaN</td>\n",
       "      <td>NaN</td>\n",
       "    </tr>\n",
       "    <tr>\n",
       "      <th>2</th>\n",
       "      <td>5016</td>\n",
       "      <td>37143</td>\n",
       "      <td>20</td>\n",
       "      <td>0</td>\n",
       "      <td>Urban Adventures - Ice Skating at Lasker Rink</td>\n",
       "      <td>62</td>\n",
       "      <td>Please join us and the students from Mott Hall...</td>\n",
       "      <td>NaN</td>\n",
       "      <td>1.0</td>\n",
       "      <td>Strengthening Communities</td>\n",
       "      <td>...</td>\n",
       "      <td>January 29 2011</td>\n",
       "      <td>approved</td>\n",
       "      <td>NaN</td>\n",
       "      <td>NaN</td>\n",
       "      <td>NaN</td>\n",
       "      <td>NaN</td>\n",
       "      <td>NaN</td>\n",
       "      <td>NaN</td>\n",
       "      <td>NaN</td>\n",
       "      <td>NaN</td>\n",
       "    </tr>\n",
       "    <tr>\n",
       "      <th>3</th>\n",
       "      <td>5022</td>\n",
       "      <td>37237</td>\n",
       "      <td>500</td>\n",
       "      <td>0</td>\n",
       "      <td>Fight global hunger and support women farmers ...</td>\n",
       "      <td>14</td>\n",
       "      <td>The Oxfam Action Corps is a group of dedicated...</td>\n",
       "      <td>NaN</td>\n",
       "      <td>1.0</td>\n",
       "      <td>Strengthening Communities</td>\n",
       "      <td>...</td>\n",
       "      <td>March 31 2012</td>\n",
       "      <td>approved</td>\n",
       "      <td>NaN</td>\n",
       "      <td>NaN</td>\n",
       "      <td>NaN</td>\n",
       "      <td>NaN</td>\n",
       "      <td>NaN</td>\n",
       "      <td>NaN</td>\n",
       "      <td>NaN</td>\n",
       "      <td>NaN</td>\n",
       "    </tr>\n",
       "    <tr>\n",
       "      <th>4</th>\n",
       "      <td>5055</td>\n",
       "      <td>37425</td>\n",
       "      <td>15</td>\n",
       "      <td>0</td>\n",
       "      <td>Stop 'N' Swap</td>\n",
       "      <td>31</td>\n",
       "      <td>Stop 'N' Swap reduces NYC's waste by finding n...</td>\n",
       "      <td>NaN</td>\n",
       "      <td>4.0</td>\n",
       "      <td>Environment</td>\n",
       "      <td>...</td>\n",
       "      <td>February 05 2011</td>\n",
       "      <td>approved</td>\n",
       "      <td>NaN</td>\n",
       "      <td>NaN</td>\n",
       "      <td>NaN</td>\n",
       "      <td>NaN</td>\n",
       "      <td>NaN</td>\n",
       "      <td>NaN</td>\n",
       "      <td>NaN</td>\n",
       "      <td>NaN</td>\n",
       "    </tr>\n",
       "  </tbody>\n",
       "</table>\n",
       "<p>5 rows × 35 columns</p>\n",
       "</div>"
      ],
      "text/plain": [
       "   opportunity_id  content_id  vol_requests  event_time  \\\n",
       "0            4996       37004            50           0   \n",
       "1            5008       37036             2           0   \n",
       "2            5016       37143            20           0   \n",
       "3            5022       37237           500           0   \n",
       "4            5055       37425            15           0   \n",
       "\n",
       "                                               title hits  \\\n",
       "0  Volunteers Needed For Rise Up & Stay Put! Home...  737   \n",
       "1                                       Web designer   22   \n",
       "2      Urban Adventures - Ice Skating at Lasker Rink   62   \n",
       "3  Fight global hunger and support women farmers ...   14   \n",
       "4                                      Stop 'N' Swap   31   \n",
       "\n",
       "                                             summary is_priority  category_id  \\\n",
       "0  Building on successful events last summer and ...         NaN          NaN   \n",
       "1             Build a website for an Afghan business         NaN          1.0   \n",
       "2  Please join us and the students from Mott Hall...         NaN          1.0   \n",
       "3  The Oxfam Action Corps is a group of dedicated...         NaN          1.0   \n",
       "4  Stop 'N' Swap reduces NYC's waste by finding n...         NaN          4.0   \n",
       "\n",
       "               category_desc  ...     end_date_date    status Latitude  \\\n",
       "0                        NaN  ...      July 30 2011  approved      NaN   \n",
       "1  Strengthening Communities  ...  February 01 2011  approved      NaN   \n",
       "2  Strengthening Communities  ...   January 29 2011  approved      NaN   \n",
       "3  Strengthening Communities  ...     March 31 2012  approved      NaN   \n",
       "4                Environment  ...  February 05 2011  approved      NaN   \n",
       "\n",
       "   Longitude  Community Board Community Council  Census Tract  BIN  BBL NTA  \n",
       "0        NaN              NaN                NaN          NaN  NaN  NaN NaN  \n",
       "1        NaN              NaN                NaN          NaN  NaN  NaN NaN  \n",
       "2        NaN              NaN                NaN          NaN  NaN  NaN NaN  \n",
       "3        NaN              NaN                NaN          NaN  NaN  NaN NaN  \n",
       "4        NaN              NaN                NaN          NaN  NaN  NaN NaN  \n",
       "\n",
       "[5 rows x 35 columns]"
      ]
     },
     "execution_count": 4,
     "metadata": {},
     "output_type": "execute_result"
    }
   ],
   "source": [
    "# Exploring the first 5 rows:\n",
    "volunteer.head()"
   ]
  },
  {
   "cell_type": "markdown",
   "id": "58663ecd-3633-4161-b06b-56ac76a82fcc",
   "metadata": {},
   "source": [
    "Possible Answers:\n",
    "- vol_requests.\n",
    "- title.\n",
    "- created_date.\n",
    "- category_desc.\n",
    "- 2, 3, and 4."
   ]
  },
  {
   "cell_type": "markdown",
   "id": "ebe05141-cdb8-412b-ad32-a55aa51c1cfc",
   "metadata": {},
   "source": [
    "> 2, 3, and 4."
   ]
  },
  {
   "cell_type": "markdown",
   "id": "29c038fe-b830-4756-9e25-dbbea3683828",
   "metadata": {},
   "source": [
    "## 2. Encoding categorical variables"
   ]
  },
  {
   "cell_type": "markdown",
   "id": "640156dc-27fa-4948-a00e-2f6b5054a88d",
   "metadata": {},
   "source": [
    "1. Encoding categorical variables\n",
    "> Because models in scikit-learn require numerical input, if your dataset contains categorical variables, you'll have to encode them. Let's take a look at how to do that.\n",
    "\n",
    "2. Categorical variables\n",
    "> Often, if you're collecting real world data, you'll have data that assigns a category to a particular row. For example, here's a set of some user data with categorical values. We have a subscribed column, with binary yes and no values, as well as a column with users' favorite colors, which has multiple categorical values.\n",
    "\n",
    "3. Encoding binary variables - Pandas\n",
    "> The first encoding we'll cover is encoding binary values. This is actually quite simple, and can be done in both Pandas and scikit-learn. In pandas, we can use the apply function to encode 1s and 0s in a dataframe column. Let's take the subscribed column here. using apply, we can write a simple conditional that returns a 1 if the value in subscribed is y, and a 0 if the value is n. Looking at a side by side comparison of the columns, you can see that the column is now numerically encoded. You might want to do this in pandas if you're not finished preprocessing, or if you're interested in further exploratory work once you've encoded.\n",
    "\n",
    "4. Encoding binary variables - scikit-learn\n",
    "> You can also do this in scikit-learn using LabelEncoder. It's useful to know both methods if, for example, you're implementing encoding as part of scikit-learn's pipeline functionality, which allows you to string different parts of the machine learning process together. Creating a LabelEncoder object also allows you to reuse this encoding on other data, such as on new data or a test set. To encode values in scikit-learn, you'll need the labelencoder transformer. You can use the fit-transform method to both fit the encoder to the data as well as transform the column. Printing out both the subscribed column and the new column, we can see that the ys and ns have been encoded to 1s and 0s.\n",
    "\n",
    "5. One-hot encoding\n",
    "> One-hot encoding also encodes categorical variables into 1s and 0s when you have more than two variables to encode. It works by looking at the entire list of unique values in a column, transforming each value into an array, and designating a 1 in the appropriate position to encode that a partcular value occurs. For example, in the fav_color column, we have three values: blue, green, and orange. If we were to encode these colors with 0s and 1s based on this list, we would get something like this: blue would have a 1 in the first position followed by two zeros, green would have a one in the second position, and orange would have a one in the last position. So an encoded column would look something like this.\n",
    "\n",
    "> 6. One-hot encoding\n",
    "You can use the get_dummies function in pandas to directly encode categorical values. Simply pass the column you want to encode to the get_dummies function and it returns the values encoded by position.\n",
    "\n",
    "7. Let's practice!\n",
    "> Now it's your turn to encode some values."
   ]
  },
  {
   "cell_type": "markdown",
   "id": "1da9c31b-10f3-442f-9104-8c4392907543",
   "metadata": {},
   "source": [
    "### 2.1. Encoding categorical variables - binary"
   ]
  },
  {
   "cell_type": "markdown",
   "id": "5d1774ec-2c51-43f6-8752-2d409787d180",
   "metadata": {},
   "source": [
    "Take a look at the `hiking` dataset. There are several columns here that need encoding, one of which is the `Accessible` column, which needs to be encoded in order to be modeled. `Accessible` is a binary feature, so it has two values - either `Y` or `N` - so it needs to be encoded into 1s and 0s. Use scikit-learn's `LabelEncoder` method to do that transformation."
   ]
  },
  {
   "cell_type": "markdown",
   "id": "177c155a-046c-4063-a252-10a1c6eca360",
   "metadata": {},
   "source": [
    "- Getting everything ready."
   ]
  },
  {
   "cell_type": "code",
   "execution_count": 5,
   "id": "e4abdabb-3cef-4666-a205-2d94335ef9ca",
   "metadata": {},
   "outputs": [],
   "source": [
    "# Reading the data:\n",
    "hiking = pd.read_json(\"./data/hiking.txt\")"
   ]
  },
  {
   "cell_type": "code",
   "execution_count": 6,
   "id": "f66fa08b-2c25-49fe-817a-ee19c82d18e5",
   "metadata": {},
   "outputs": [
    {
     "data": {
      "text/plain": [
       "(33, 11)"
      ]
     },
     "execution_count": 6,
     "metadata": {},
     "output_type": "execute_result"
    }
   ],
   "source": [
    "# Exploring the shape:\n",
    "hiking.shape"
   ]
  },
  {
   "cell_type": "code",
   "execution_count": 7,
   "id": "7f06511e-997d-493f-8242-12de8478eb5b",
   "metadata": {},
   "outputs": [
    {
     "data": {
      "text/html": [
       "<div>\n",
       "<style scoped>\n",
       "    .dataframe tbody tr th:only-of-type {\n",
       "        vertical-align: middle;\n",
       "    }\n",
       "\n",
       "    .dataframe tbody tr th {\n",
       "        vertical-align: top;\n",
       "    }\n",
       "\n",
       "    .dataframe thead th {\n",
       "        text-align: right;\n",
       "    }\n",
       "</style>\n",
       "<table border=\"1\" class=\"dataframe\">\n",
       "  <thead>\n",
       "    <tr style=\"text-align: right;\">\n",
       "      <th></th>\n",
       "      <th>Prop_ID</th>\n",
       "      <th>Name</th>\n",
       "      <th>Location</th>\n",
       "      <th>Park_Name</th>\n",
       "      <th>Length</th>\n",
       "      <th>Difficulty</th>\n",
       "      <th>Other_Details</th>\n",
       "      <th>Accessible</th>\n",
       "      <th>Limited_Access</th>\n",
       "      <th>lat</th>\n",
       "      <th>lon</th>\n",
       "    </tr>\n",
       "  </thead>\n",
       "  <tbody>\n",
       "    <tr>\n",
       "      <th>0</th>\n",
       "      <td>B057</td>\n",
       "      <td>Salt Marsh Nature Trail</td>\n",
       "      <td>Enter behind the Salt Marsh Nature Center, loc...</td>\n",
       "      <td>Marine Park</td>\n",
       "      <td>0.8 miles</td>\n",
       "      <td>None</td>\n",
       "      <td>&lt;p&gt;The first half of this mile-long trail foll...</td>\n",
       "      <td>Y</td>\n",
       "      <td>N</td>\n",
       "      <td>NaN</td>\n",
       "      <td>NaN</td>\n",
       "    </tr>\n",
       "    <tr>\n",
       "      <th>1</th>\n",
       "      <td>B073</td>\n",
       "      <td>Lullwater</td>\n",
       "      <td>Enter Park at Lincoln Road and Ocean Avenue en...</td>\n",
       "      <td>Prospect Park</td>\n",
       "      <td>1.0 mile</td>\n",
       "      <td>Easy</td>\n",
       "      <td>Explore the Lullwater to see how nature thrive...</td>\n",
       "      <td>N</td>\n",
       "      <td>N</td>\n",
       "      <td>NaN</td>\n",
       "      <td>NaN</td>\n",
       "    </tr>\n",
       "    <tr>\n",
       "      <th>2</th>\n",
       "      <td>B073</td>\n",
       "      <td>Midwood</td>\n",
       "      <td>Enter Park at Lincoln Road and Ocean Avenue en...</td>\n",
       "      <td>Prospect Park</td>\n",
       "      <td>0.75 miles</td>\n",
       "      <td>Easy</td>\n",
       "      <td>Step back in time with a walk through Brooklyn...</td>\n",
       "      <td>N</td>\n",
       "      <td>N</td>\n",
       "      <td>NaN</td>\n",
       "      <td>NaN</td>\n",
       "    </tr>\n",
       "    <tr>\n",
       "      <th>3</th>\n",
       "      <td>B073</td>\n",
       "      <td>Peninsula</td>\n",
       "      <td>Enter Park at Lincoln Road and Ocean Avenue en...</td>\n",
       "      <td>Prospect Park</td>\n",
       "      <td>0.5 miles</td>\n",
       "      <td>Easy</td>\n",
       "      <td>Discover how the Peninsula has changed over th...</td>\n",
       "      <td>N</td>\n",
       "      <td>N</td>\n",
       "      <td>NaN</td>\n",
       "      <td>NaN</td>\n",
       "    </tr>\n",
       "    <tr>\n",
       "      <th>4</th>\n",
       "      <td>B073</td>\n",
       "      <td>Waterfall</td>\n",
       "      <td>Enter Park at Lincoln Road and Ocean Avenue en...</td>\n",
       "      <td>Prospect Park</td>\n",
       "      <td>0.5 miles</td>\n",
       "      <td>Easy</td>\n",
       "      <td>Trace the source of the Lake on the Waterfall ...</td>\n",
       "      <td>N</td>\n",
       "      <td>N</td>\n",
       "      <td>NaN</td>\n",
       "      <td>NaN</td>\n",
       "    </tr>\n",
       "  </tbody>\n",
       "</table>\n",
       "</div>"
      ],
      "text/plain": [
       "  Prop_ID                     Name  \\\n",
       "0    B057  Salt Marsh Nature Trail   \n",
       "1    B073                Lullwater   \n",
       "2    B073                  Midwood   \n",
       "3    B073                Peninsula   \n",
       "4    B073                Waterfall   \n",
       "\n",
       "                                            Location      Park_Name  \\\n",
       "0  Enter behind the Salt Marsh Nature Center, loc...    Marine Park   \n",
       "1  Enter Park at Lincoln Road and Ocean Avenue en...  Prospect Park   \n",
       "2  Enter Park at Lincoln Road and Ocean Avenue en...  Prospect Park   \n",
       "3  Enter Park at Lincoln Road and Ocean Avenue en...  Prospect Park   \n",
       "4  Enter Park at Lincoln Road and Ocean Avenue en...  Prospect Park   \n",
       "\n",
       "       Length Difficulty                                      Other_Details  \\\n",
       "0   0.8 miles       None  <p>The first half of this mile-long trail foll...   \n",
       "1    1.0 mile       Easy  Explore the Lullwater to see how nature thrive...   \n",
       "2  0.75 miles       Easy  Step back in time with a walk through Brooklyn...   \n",
       "3   0.5 miles       Easy  Discover how the Peninsula has changed over th...   \n",
       "4   0.5 miles       Easy  Trace the source of the Lake on the Waterfall ...   \n",
       "\n",
       "  Accessible Limited_Access  lat  lon  \n",
       "0          Y              N  NaN  NaN  \n",
       "1          N              N  NaN  NaN  \n",
       "2          N              N  NaN  NaN  \n",
       "3          N              N  NaN  NaN  \n",
       "4          N              N  NaN  NaN  "
      ]
     },
     "execution_count": 7,
     "metadata": {},
     "output_type": "execute_result"
    }
   ],
   "source": [
    "# Exploring the first 5 rows:\n",
    "hiking.head()"
   ]
  },
  {
   "cell_type": "markdown",
   "id": "37911773-6075-459a-b554-2c5c24a5631f",
   "metadata": {},
   "source": [
    "- Store `LabelEncoder()` in a variable named `enc`."
   ]
  },
  {
   "cell_type": "code",
   "execution_count": 8,
   "id": "6be5d8b1-6b34-40e5-bdd3-1bbc32e92a50",
   "metadata": {},
   "outputs": [],
   "source": [
    "# Initiating the encoder:\n",
    "enc = LabelEncoder()"
   ]
  },
  {
   "cell_type": "markdown",
   "id": "651a9fd2-a0ca-4224-818a-ba8240772452",
   "metadata": {},
   "source": [
    "- Using the encoder's `.fit_transform()` function, encode the `hiking` dataset's `Accessible` column. Call the new column `Accessible_enc`."
   ]
  },
  {
   "cell_type": "code",
   "execution_count": 9,
   "id": "487a091e-728e-40ff-8393-90868e4eb853",
   "metadata": {},
   "outputs": [],
   "source": [
    "# Encoding the Accessible column:\n",
    "hiking['Accessible_enc'] = enc.fit_transform(hiking['Accessible'])"
   ]
  },
  {
   "cell_type": "markdown",
   "id": "3a72d2f2-5d16-4931-89c6-b61861f11ff4",
   "metadata": {},
   "source": [
    "- Compare the two columns side-by-side to see the encoding."
   ]
  },
  {
   "cell_type": "code",
   "execution_count": 10,
   "id": "fdadd1b1-7c77-464d-8db0-e276f86f42a5",
   "metadata": {},
   "outputs": [
    {
     "data": {
      "text/html": [
       "<div>\n",
       "<style scoped>\n",
       "    .dataframe tbody tr th:only-of-type {\n",
       "        vertical-align: middle;\n",
       "    }\n",
       "\n",
       "    .dataframe tbody tr th {\n",
       "        vertical-align: top;\n",
       "    }\n",
       "\n",
       "    .dataframe thead th {\n",
       "        text-align: right;\n",
       "    }\n",
       "</style>\n",
       "<table border=\"1\" class=\"dataframe\">\n",
       "  <thead>\n",
       "    <tr style=\"text-align: right;\">\n",
       "      <th></th>\n",
       "      <th>Accessible</th>\n",
       "      <th>Accessible_enc</th>\n",
       "    </tr>\n",
       "  </thead>\n",
       "  <tbody>\n",
       "    <tr>\n",
       "      <th>0</th>\n",
       "      <td>Y</td>\n",
       "      <td>1</td>\n",
       "    </tr>\n",
       "    <tr>\n",
       "      <th>1</th>\n",
       "      <td>N</td>\n",
       "      <td>0</td>\n",
       "    </tr>\n",
       "    <tr>\n",
       "      <th>2</th>\n",
       "      <td>N</td>\n",
       "      <td>0</td>\n",
       "    </tr>\n",
       "    <tr>\n",
       "      <th>3</th>\n",
       "      <td>N</td>\n",
       "      <td>0</td>\n",
       "    </tr>\n",
       "    <tr>\n",
       "      <th>4</th>\n",
       "      <td>N</td>\n",
       "      <td>0</td>\n",
       "    </tr>\n",
       "  </tbody>\n",
       "</table>\n",
       "</div>"
      ],
      "text/plain": [
       "  Accessible  Accessible_enc\n",
       "0          Y               1\n",
       "1          N               0\n",
       "2          N               0\n",
       "3          N               0\n",
       "4          N               0"
      ]
     },
     "execution_count": 10,
     "metadata": {},
     "output_type": "execute_result"
    }
   ],
   "source": [
    "# Comparing the 2 columns:\n",
    "hiking[['Accessible', 'Accessible_enc']].head()"
   ]
  },
  {
   "cell_type": "markdown",
   "id": "6eba0f87-3307-4808-8ce2-dba02a8b212f",
   "metadata": {},
   "source": [
    "## 2.2. Encoding categorical variables - one-hot"
   ]
  },
  {
   "cell_type": "markdown",
   "id": "16cf91bb-fd1d-4e2d-b699-a6ea8f137f74",
   "metadata": {},
   "source": [
    "One of the columns in the `volunteer` dataset, `category_desc`, gives category descriptions for the volunteer opportunities listed. Because it is a categorical variable with more than two categories, we need to use one-hot encoding to transform this column numerically. Use Pandas' `get_dummies()` function to do so."
   ]
  },
  {
   "cell_type": "markdown",
   "id": "10b7a3ba-1108-436e-aff2-e8add0da20f0",
   "metadata": {},
   "source": [
    "- Getting everything raedy."
   ]
  },
  {
   "cell_type": "code",
   "execution_count": 11,
   "id": "cdefaa5a-aefc-49fd-be92-9aad7639e6a5",
   "metadata": {},
   "outputs": [],
   "source": [
    "# Reading the data:\n",
    "volunteer = pd.read_csv(\"./data/volunteering.csv\")"
   ]
  },
  {
   "cell_type": "code",
   "execution_count": 12,
   "id": "fbea77fe-38dd-4f4a-a6b2-e3c1ea8284d9",
   "metadata": {},
   "outputs": [
    {
     "data": {
      "text/plain": [
       "(665, 35)"
      ]
     },
     "execution_count": 12,
     "metadata": {},
     "output_type": "execute_result"
    }
   ],
   "source": [
    "# Exploring the shape:\n",
    "volunteer.shape"
   ]
  },
  {
   "cell_type": "code",
   "execution_count": 13,
   "id": "28f89a13-dad1-4cdc-8997-6c988f66263f",
   "metadata": {},
   "outputs": [
    {
     "data": {
      "text/html": [
       "<div>\n",
       "<style scoped>\n",
       "    .dataframe tbody tr th:only-of-type {\n",
       "        vertical-align: middle;\n",
       "    }\n",
       "\n",
       "    .dataframe tbody tr th {\n",
       "        vertical-align: top;\n",
       "    }\n",
       "\n",
       "    .dataframe thead th {\n",
       "        text-align: right;\n",
       "    }\n",
       "</style>\n",
       "<table border=\"1\" class=\"dataframe\">\n",
       "  <thead>\n",
       "    <tr style=\"text-align: right;\">\n",
       "      <th></th>\n",
       "      <th>opportunity_id</th>\n",
       "      <th>content_id</th>\n",
       "      <th>vol_requests</th>\n",
       "      <th>event_time</th>\n",
       "      <th>title</th>\n",
       "      <th>hits</th>\n",
       "      <th>summary</th>\n",
       "      <th>is_priority</th>\n",
       "      <th>category_id</th>\n",
       "      <th>category_desc</th>\n",
       "      <th>...</th>\n",
       "      <th>end_date_date</th>\n",
       "      <th>status</th>\n",
       "      <th>Latitude</th>\n",
       "      <th>Longitude</th>\n",
       "      <th>Community Board</th>\n",
       "      <th>Community Council</th>\n",
       "      <th>Census Tract</th>\n",
       "      <th>BIN</th>\n",
       "      <th>BBL</th>\n",
       "      <th>NTA</th>\n",
       "    </tr>\n",
       "  </thead>\n",
       "  <tbody>\n",
       "    <tr>\n",
       "      <th>0</th>\n",
       "      <td>4996</td>\n",
       "      <td>37004</td>\n",
       "      <td>50</td>\n",
       "      <td>0</td>\n",
       "      <td>Volunteers Needed For Rise Up &amp; Stay Put! Home...</td>\n",
       "      <td>737</td>\n",
       "      <td>Building on successful events last summer and ...</td>\n",
       "      <td>NaN</td>\n",
       "      <td>NaN</td>\n",
       "      <td>NaN</td>\n",
       "      <td>...</td>\n",
       "      <td>July 30 2011</td>\n",
       "      <td>approved</td>\n",
       "      <td>NaN</td>\n",
       "      <td>NaN</td>\n",
       "      <td>NaN</td>\n",
       "      <td>NaN</td>\n",
       "      <td>NaN</td>\n",
       "      <td>NaN</td>\n",
       "      <td>NaN</td>\n",
       "      <td>NaN</td>\n",
       "    </tr>\n",
       "    <tr>\n",
       "      <th>1</th>\n",
       "      <td>5008</td>\n",
       "      <td>37036</td>\n",
       "      <td>2</td>\n",
       "      <td>0</td>\n",
       "      <td>Web designer</td>\n",
       "      <td>22</td>\n",
       "      <td>Build a website for an Afghan business</td>\n",
       "      <td>NaN</td>\n",
       "      <td>1.0</td>\n",
       "      <td>Strengthening Communities</td>\n",
       "      <td>...</td>\n",
       "      <td>February 01 2011</td>\n",
       "      <td>approved</td>\n",
       "      <td>NaN</td>\n",
       "      <td>NaN</td>\n",
       "      <td>NaN</td>\n",
       "      <td>NaN</td>\n",
       "      <td>NaN</td>\n",
       "      <td>NaN</td>\n",
       "      <td>NaN</td>\n",
       "      <td>NaN</td>\n",
       "    </tr>\n",
       "    <tr>\n",
       "      <th>2</th>\n",
       "      <td>5016</td>\n",
       "      <td>37143</td>\n",
       "      <td>20</td>\n",
       "      <td>0</td>\n",
       "      <td>Urban Adventures - Ice Skating at Lasker Rink</td>\n",
       "      <td>62</td>\n",
       "      <td>Please join us and the students from Mott Hall...</td>\n",
       "      <td>NaN</td>\n",
       "      <td>1.0</td>\n",
       "      <td>Strengthening Communities</td>\n",
       "      <td>...</td>\n",
       "      <td>January 29 2011</td>\n",
       "      <td>approved</td>\n",
       "      <td>NaN</td>\n",
       "      <td>NaN</td>\n",
       "      <td>NaN</td>\n",
       "      <td>NaN</td>\n",
       "      <td>NaN</td>\n",
       "      <td>NaN</td>\n",
       "      <td>NaN</td>\n",
       "      <td>NaN</td>\n",
       "    </tr>\n",
       "    <tr>\n",
       "      <th>3</th>\n",
       "      <td>5022</td>\n",
       "      <td>37237</td>\n",
       "      <td>500</td>\n",
       "      <td>0</td>\n",
       "      <td>Fight global hunger and support women farmers ...</td>\n",
       "      <td>14</td>\n",
       "      <td>The Oxfam Action Corps is a group of dedicated...</td>\n",
       "      <td>NaN</td>\n",
       "      <td>1.0</td>\n",
       "      <td>Strengthening Communities</td>\n",
       "      <td>...</td>\n",
       "      <td>March 31 2012</td>\n",
       "      <td>approved</td>\n",
       "      <td>NaN</td>\n",
       "      <td>NaN</td>\n",
       "      <td>NaN</td>\n",
       "      <td>NaN</td>\n",
       "      <td>NaN</td>\n",
       "      <td>NaN</td>\n",
       "      <td>NaN</td>\n",
       "      <td>NaN</td>\n",
       "    </tr>\n",
       "    <tr>\n",
       "      <th>4</th>\n",
       "      <td>5055</td>\n",
       "      <td>37425</td>\n",
       "      <td>15</td>\n",
       "      <td>0</td>\n",
       "      <td>Stop 'N' Swap</td>\n",
       "      <td>31</td>\n",
       "      <td>Stop 'N' Swap reduces NYC's waste by finding n...</td>\n",
       "      <td>NaN</td>\n",
       "      <td>4.0</td>\n",
       "      <td>Environment</td>\n",
       "      <td>...</td>\n",
       "      <td>February 05 2011</td>\n",
       "      <td>approved</td>\n",
       "      <td>NaN</td>\n",
       "      <td>NaN</td>\n",
       "      <td>NaN</td>\n",
       "      <td>NaN</td>\n",
       "      <td>NaN</td>\n",
       "      <td>NaN</td>\n",
       "      <td>NaN</td>\n",
       "      <td>NaN</td>\n",
       "    </tr>\n",
       "  </tbody>\n",
       "</table>\n",
       "<p>5 rows × 35 columns</p>\n",
       "</div>"
      ],
      "text/plain": [
       "   opportunity_id  content_id  vol_requests  event_time  \\\n",
       "0            4996       37004            50           0   \n",
       "1            5008       37036             2           0   \n",
       "2            5016       37143            20           0   \n",
       "3            5022       37237           500           0   \n",
       "4            5055       37425            15           0   \n",
       "\n",
       "                                               title  hits  \\\n",
       "0  Volunteers Needed For Rise Up & Stay Put! Home...   737   \n",
       "1                                       Web designer    22   \n",
       "2      Urban Adventures - Ice Skating at Lasker Rink    62   \n",
       "3  Fight global hunger and support women farmers ...    14   \n",
       "4                                      Stop 'N' Swap    31   \n",
       "\n",
       "                                             summary is_priority  category_id  \\\n",
       "0  Building on successful events last summer and ...         NaN          NaN   \n",
       "1             Build a website for an Afghan business         NaN          1.0   \n",
       "2  Please join us and the students from Mott Hall...         NaN          1.0   \n",
       "3  The Oxfam Action Corps is a group of dedicated...         NaN          1.0   \n",
       "4  Stop 'N' Swap reduces NYC's waste by finding n...         NaN          4.0   \n",
       "\n",
       "               category_desc  ...     end_date_date    status Latitude  \\\n",
       "0                        NaN  ...      July 30 2011  approved      NaN   \n",
       "1  Strengthening Communities  ...  February 01 2011  approved      NaN   \n",
       "2  Strengthening Communities  ...   January 29 2011  approved      NaN   \n",
       "3  Strengthening Communities  ...     March 31 2012  approved      NaN   \n",
       "4                Environment  ...  February 05 2011  approved      NaN   \n",
       "\n",
       "   Longitude  Community Board Community Council  Census Tract  BIN  BBL NTA  \n",
       "0        NaN              NaN                NaN          NaN  NaN  NaN NaN  \n",
       "1        NaN              NaN                NaN          NaN  NaN  NaN NaN  \n",
       "2        NaN              NaN                NaN          NaN  NaN  NaN NaN  \n",
       "3        NaN              NaN                NaN          NaN  NaN  NaN NaN  \n",
       "4        NaN              NaN                NaN          NaN  NaN  NaN NaN  \n",
       "\n",
       "[5 rows x 35 columns]"
      ]
     },
     "execution_count": 13,
     "metadata": {},
     "output_type": "execute_result"
    }
   ],
   "source": [
    "# Exploring the first 5 rows:\n",
    "volunteer.head()"
   ]
  },
  {
   "cell_type": "markdown",
   "id": "6bd744de-9bcb-45d7-a18f-fecae0190648",
   "metadata": {},
   "source": [
    "- Call `get_dummies()` on the `volunteer[\"category_desc\"]` column to create the encoded columns and assign it to `category_enc`."
   ]
  },
  {
   "cell_type": "code",
   "execution_count": 14,
   "id": "d120d9b6-9efa-4b17-8cd0-5628eb1cbf58",
   "metadata": {},
   "outputs": [],
   "source": [
    "# Encoding the category_desc column:\n",
    "category_enc = pd.get_dummies(data=volunteer['category_desc'])"
   ]
  },
  {
   "cell_type": "markdown",
   "id": "c499352f-38ac-402b-92dd-47dc3a7f837c",
   "metadata": {},
   "source": [
    "- Print out the `head()` of the `category_enc` variable to take a look at the encoded columns."
   ]
  },
  {
   "cell_type": "code",
   "execution_count": 15,
   "id": "89092095-2226-45c0-854d-a8563cb7470a",
   "metadata": {},
   "outputs": [
    {
     "data": {
      "text/html": [
       "<div>\n",
       "<style scoped>\n",
       "    .dataframe tbody tr th:only-of-type {\n",
       "        vertical-align: middle;\n",
       "    }\n",
       "\n",
       "    .dataframe tbody tr th {\n",
       "        vertical-align: top;\n",
       "    }\n",
       "\n",
       "    .dataframe thead th {\n",
       "        text-align: right;\n",
       "    }\n",
       "</style>\n",
       "<table border=\"1\" class=\"dataframe\">\n",
       "  <thead>\n",
       "    <tr style=\"text-align: right;\">\n",
       "      <th></th>\n",
       "      <th>Education</th>\n",
       "      <th>Emergency Preparedness</th>\n",
       "      <th>Environment</th>\n",
       "      <th>Health</th>\n",
       "      <th>Helping Neighbors in Need</th>\n",
       "      <th>Strengthening Communities</th>\n",
       "    </tr>\n",
       "  </thead>\n",
       "  <tbody>\n",
       "    <tr>\n",
       "      <th>0</th>\n",
       "      <td>0</td>\n",
       "      <td>0</td>\n",
       "      <td>0</td>\n",
       "      <td>0</td>\n",
       "      <td>0</td>\n",
       "      <td>0</td>\n",
       "    </tr>\n",
       "    <tr>\n",
       "      <th>1</th>\n",
       "      <td>0</td>\n",
       "      <td>0</td>\n",
       "      <td>0</td>\n",
       "      <td>0</td>\n",
       "      <td>0</td>\n",
       "      <td>1</td>\n",
       "    </tr>\n",
       "    <tr>\n",
       "      <th>2</th>\n",
       "      <td>0</td>\n",
       "      <td>0</td>\n",
       "      <td>0</td>\n",
       "      <td>0</td>\n",
       "      <td>0</td>\n",
       "      <td>1</td>\n",
       "    </tr>\n",
       "    <tr>\n",
       "      <th>3</th>\n",
       "      <td>0</td>\n",
       "      <td>0</td>\n",
       "      <td>0</td>\n",
       "      <td>0</td>\n",
       "      <td>0</td>\n",
       "      <td>1</td>\n",
       "    </tr>\n",
       "    <tr>\n",
       "      <th>4</th>\n",
       "      <td>0</td>\n",
       "      <td>0</td>\n",
       "      <td>1</td>\n",
       "      <td>0</td>\n",
       "      <td>0</td>\n",
       "      <td>0</td>\n",
       "    </tr>\n",
       "  </tbody>\n",
       "</table>\n",
       "</div>"
      ],
      "text/plain": [
       "   Education  Emergency Preparedness  Environment  Health  \\\n",
       "0          0                       0            0       0   \n",
       "1          0                       0            0       0   \n",
       "2          0                       0            0       0   \n",
       "3          0                       0            0       0   \n",
       "4          0                       0            1       0   \n",
       "\n",
       "   Helping Neighbors in Need  Strengthening Communities  \n",
       "0                          0                          0  \n",
       "1                          0                          1  \n",
       "2                          0                          1  \n",
       "3                          0                          1  \n",
       "4                          0                          0  "
      ]
     },
     "execution_count": 15,
     "metadata": {},
     "output_type": "execute_result"
    }
   ],
   "source": [
    "# Exploring thefirst 5 rows from the newly encoded variable:\n",
    "category_enc.head()"
   ]
  },
  {
   "cell_type": "markdown",
   "id": "09ef2f6a-7739-488a-96dc-32c58e150a67",
   "metadata": {},
   "source": [
    "## 3. Engineering numerical features"
   ]
  },
  {
   "cell_type": "markdown",
   "id": "299e99d5-e85a-47b6-bb1d-9196a565a016",
   "metadata": {},
   "source": [
    "1. Engineering numerical features\n",
    "> Though you may have a dataset filled with numerical features, they may need a little bit of feature engineering to properly prepare for modeling. In this section, we'll talk about aggregate statistics as well as dates and how engineering numerical features can add value to your dataset.\n",
    "\n",
    "2. Aggregate statistics\n",
    "> If you had, say, a collection of features related to a single feature, like temperature or running time, you might want to take an average or median to use as a feature for modeling instead. A common method of feature engineering is to take an aggregate of a set of numbers to use in place of those features. This can be helpful in reducing the dimensionality of your feature space, or perhaps you simply don't need multiple similar values that are close in distance to each other. Here we have a dataset of temperature data over the course of three days in four different cities. Rather than use all three days, let's take an average. We can simply take the columns we want to run an aggregate statistic over - here I've thrown them into a list to make it easier to read - and apply the appropriate function, using a lambda. We set axis=1 in order to operate across a row. You can see that this returns a single mean value column.\n",
    "\n",
    "3. Dates\n",
    "> Dates and timestamps are another area where you might want to reduce granularity in your dataset. If you're doing time series analysis, that's likely a different story, but if you're running a prediction task, you may need higher-level information like the month or the year, or both. Here's a collection of dates. The full date is too granular for the prediction task we want to do, so let's extract the month from each date.\n",
    "\n",
    "4. Dates\n",
    "> The first thing to do is to convert this column to a datetime column in pandas. This makes the extraction task much easier. Once it's converted, we can once again use the apply method. Because this column is now a datetime, we can simply use the .month attribute to extract out the month. You can also use attributes like \"day\" to get the day, and \"year\" to get the year. And you can see that we now have a column of the month values.\n",
    "\n",
    "5. Let's practice!\n",
    "> Time to put engineering numerical features into practice!"
   ]
  },
  {
   "cell_type": "markdown",
   "id": "e769a5d9-6e94-40a7-a3d1-74d30fbba9b1",
   "metadata": {},
   "source": [
    "### 3.1. Engineering numerical features - taking an average"
   ]
  },
  {
   "cell_type": "markdown",
   "id": "dbc6e17a-420f-4baa-98f1-774f617df5b3",
   "metadata": {},
   "source": [
    "A good use case for taking an aggregate statistic to create a new feature is to take the mean of columns. Here, you have a DataFrame of running times named `running_times_5k`. For each `name` in the dataset, take the mean of their 5 run times."
   ]
  },
  {
   "cell_type": "markdown",
   "id": "79aa120f-39f0-4b0c-bcda-11474e216c7f",
   "metadata": {},
   "source": [
    "- Getting everything ready."
   ]
  },
  {
   "cell_type": "code",
   "execution_count": 16,
   "id": "88d99650-de02-4735-8b8f-2753df251d20",
   "metadata": {},
   "outputs": [
    {
     "data": {
      "text/html": [
       "<div>\n",
       "<style scoped>\n",
       "    .dataframe tbody tr th:only-of-type {\n",
       "        vertical-align: middle;\n",
       "    }\n",
       "\n",
       "    .dataframe tbody tr th {\n",
       "        vertical-align: top;\n",
       "    }\n",
       "\n",
       "    .dataframe thead th {\n",
       "        text-align: right;\n",
       "    }\n",
       "</style>\n",
       "<table border=\"1\" class=\"dataframe\">\n",
       "  <thead>\n",
       "    <tr style=\"text-align: right;\">\n",
       "      <th></th>\n",
       "      <th>name</th>\n",
       "      <th>run1</th>\n",
       "      <th>run2</th>\n",
       "      <th>run3</th>\n",
       "      <th>run4</th>\n",
       "      <th>run5</th>\n",
       "    </tr>\n",
       "  </thead>\n",
       "  <tbody>\n",
       "    <tr>\n",
       "      <th>0</th>\n",
       "      <td>Sue</td>\n",
       "      <td>20.1</td>\n",
       "      <td>18.5</td>\n",
       "      <td>19.6</td>\n",
       "      <td>20.3</td>\n",
       "      <td>18.3</td>\n",
       "    </tr>\n",
       "    <tr>\n",
       "      <th>1</th>\n",
       "      <td>Mark</td>\n",
       "      <td>16.5</td>\n",
       "      <td>17.1</td>\n",
       "      <td>16.9</td>\n",
       "      <td>17.6</td>\n",
       "      <td>17.3</td>\n",
       "    </tr>\n",
       "    <tr>\n",
       "      <th>2</th>\n",
       "      <td>Sean</td>\n",
       "      <td>23.5</td>\n",
       "      <td>25.1</td>\n",
       "      <td>25.2</td>\n",
       "      <td>24.6</td>\n",
       "      <td>23.9</td>\n",
       "    </tr>\n",
       "    <tr>\n",
       "      <th>3</th>\n",
       "      <td>Erin</td>\n",
       "      <td>21.7</td>\n",
       "      <td>21.1</td>\n",
       "      <td>20.9</td>\n",
       "      <td>22.1</td>\n",
       "      <td>22.2</td>\n",
       "    </tr>\n",
       "    <tr>\n",
       "      <th>4</th>\n",
       "      <td>Jenny</td>\n",
       "      <td>25.8</td>\n",
       "      <td>27.1</td>\n",
       "      <td>26.1</td>\n",
       "      <td>26.7</td>\n",
       "      <td>26.9</td>\n",
       "    </tr>\n",
       "  </tbody>\n",
       "</table>\n",
       "</div>"
      ],
      "text/plain": [
       "    name  run1  run2  run3  run4  run5\n",
       "0    Sue  20.1  18.5  19.6  20.3  18.3\n",
       "1   Mark  16.5  17.1  16.9  17.6  17.3\n",
       "2   Sean  23.5  25.1  25.2  24.6  23.9\n",
       "3   Erin  21.7  21.1  20.9  22.1  22.2\n",
       "4  Jenny  25.8  27.1  26.1  26.7  26.9"
      ]
     },
     "execution_count": 16,
     "metadata": {},
     "output_type": "execute_result"
    }
   ],
   "source": [
    "# Grapping the data from the worksapce:\n",
    "running_times_5k = {\"name\":{\"0\":\"Sue\",\"1\":\"Mark\",\"2\":\"Sean\",\"3\":\"Erin\",\"4\":\"Jenny\",\"5\":\"Russell\"},\n",
    "                    \"run1\":{\"0\":20.1,\"1\":16.5,\"2\":23.5,\"3\":21.7,\"4\":25.8,\"5\":30.9},\n",
    "                    \"run2\":{\"0\":18.5,\"1\":17.1,\"2\":25.1,\"3\":21.1,\"4\":27.1,\"5\":29.6},\n",
    "                    \"run3\":{\"0\":19.6,\"1\":16.9,\"2\":25.2,\"3\":20.9,\"4\":26.1,\"5\":31.4},\n",
    "                    \"run4\":{\"0\":20.3,\"1\":17.6,\"2\":24.6,\"3\":22.1,\"4\":26.7,\"5\":30.4},\n",
    "                    \"run5\":{\"0\":18.3,\"1\":17.3,\"2\":23.9,\"3\":22.2,\"4\":26.9,\"5\":29.9}}\n",
    "\n",
    "running_times_5k = pd.DataFrame(running_times_5k)\n",
    "\n",
    "# Exploring the first 5 rows:\n",
    "running_times_5k.head()"
   ]
  },
  {
   "cell_type": "markdown",
   "id": "8c5d6332-7515-4528-979f-4bf1972629e1",
   "metadata": {},
   "source": [
    "- Create a list of the columns you want to take the average of and store it in a variable named `run_columns`."
   ]
  },
  {
   "cell_type": "code",
   "execution_count": 17,
   "id": "6881b711-4b5f-43ef-baa9-f0b64cede1ea",
   "metadata": {},
   "outputs": [],
   "source": [
    "# Creating a list of the columns to take the average:\n",
    "run_columns = running_times_5k.drop(columns=['name']).columns"
   ]
  },
  {
   "cell_type": "markdown",
   "id": "32d833c7-bd16-4308-b01c-35e7b4d3d83b",
   "metadata": {},
   "source": [
    "- Use `apply` to take the `mean()` of the list of columns and remember to set `axis=1`. Use `lambda row:` in the `apply`."
   ]
  },
  {
   "cell_type": "code",
   "execution_count": 18,
   "id": "9d3ce001-cbe3-4370-badf-37fd962acbc4",
   "metadata": {},
   "outputs": [],
   "source": [
    "# Aggregating the columns:\n",
    "running_times_5k['mean'] = running_times_5k[run_columns].apply(lambda row : row.mean(), axis=1)"
   ]
  },
  {
   "cell_type": "markdown",
   "id": "6502500b-5e9e-4219-be62-eac07ea186a7",
   "metadata": {},
   "source": [
    "- Print out the DataFrame to see the `mean` column."
   ]
  },
  {
   "cell_type": "code",
   "execution_count": 19,
   "id": "04cf1c36-819e-478c-a410-48df8f5a2253",
   "metadata": {},
   "outputs": [
    {
     "name": "stdout",
     "output_type": "stream",
     "text": [
      "      name  run1  run2  run3  run4  run5   mean\n",
      "0      Sue  20.1  18.5  19.6  20.3  18.3  19.36\n",
      "1     Mark  16.5  17.1  16.9  17.6  17.3  17.08\n",
      "2     Sean  23.5  25.1  25.2  24.6  23.9  24.46\n",
      "3     Erin  21.7  21.1  20.9  22.1  22.2  21.60\n",
      "4    Jenny  25.8  27.1  26.1  26.7  26.9  26.52\n",
      "5  Russell  30.9  29.6  31.4  30.4  29.9  30.44\n"
     ]
    }
   ],
   "source": [
    "# Exploring the data:\n",
    "print(running_times_5k)"
   ]
  },
  {
   "cell_type": "markdown",
   "id": "edb4d5f1-a8f5-4959-ae91-6120cc647516",
   "metadata": {},
   "source": [
    "### 3.2. Engineering numerical features - datetime"
   ]
  },
  {
   "cell_type": "markdown",
   "id": "bd6df243-713b-446d-b718-22d645489a01",
   "metadata": {},
   "source": [
    "There are several columns in the `volunteer` dataset comprised of datetimes. Let's take a look at the `start_date_date` column and extract just the month to use as a feature for modeling."
   ]
  },
  {
   "cell_type": "markdown",
   "id": "dd17cefe-184e-4730-ad8f-29025edd4f31",
   "metadata": {},
   "source": [
    "- Getting everything ready."
   ]
  },
  {
   "cell_type": "code",
   "execution_count": 20,
   "id": "810af0bf-0ea5-46f3-a319-8107a033525f",
   "metadata": {},
   "outputs": [],
   "source": [
    "# Reading the data:\n",
    "volunteer = pd.read_csv(\"./data/volunteering.csv\")"
   ]
  },
  {
   "cell_type": "code",
   "execution_count": 21,
   "id": "0cb5c242-f67c-4bcd-9683-5966e37f28d2",
   "metadata": {},
   "outputs": [
    {
     "data": {
      "text/plain": [
       "(665, 35)"
      ]
     },
     "execution_count": 21,
     "metadata": {},
     "output_type": "execute_result"
    }
   ],
   "source": [
    "# Exploring the sahpe:\n",
    "volunteer.shape"
   ]
  },
  {
   "cell_type": "code",
   "execution_count": 22,
   "id": "f2a4943d-d859-418d-938e-048bf646628d",
   "metadata": {},
   "outputs": [
    {
     "data": {
      "text/html": [
       "<div>\n",
       "<style scoped>\n",
       "    .dataframe tbody tr th:only-of-type {\n",
       "        vertical-align: middle;\n",
       "    }\n",
       "\n",
       "    .dataframe tbody tr th {\n",
       "        vertical-align: top;\n",
       "    }\n",
       "\n",
       "    .dataframe thead th {\n",
       "        text-align: right;\n",
       "    }\n",
       "</style>\n",
       "<table border=\"1\" class=\"dataframe\">\n",
       "  <thead>\n",
       "    <tr style=\"text-align: right;\">\n",
       "      <th></th>\n",
       "      <th>opportunity_id</th>\n",
       "      <th>content_id</th>\n",
       "      <th>vol_requests</th>\n",
       "      <th>event_time</th>\n",
       "      <th>title</th>\n",
       "      <th>hits</th>\n",
       "      <th>summary</th>\n",
       "      <th>is_priority</th>\n",
       "      <th>category_id</th>\n",
       "      <th>category_desc</th>\n",
       "      <th>...</th>\n",
       "      <th>end_date_date</th>\n",
       "      <th>status</th>\n",
       "      <th>Latitude</th>\n",
       "      <th>Longitude</th>\n",
       "      <th>Community Board</th>\n",
       "      <th>Community Council</th>\n",
       "      <th>Census Tract</th>\n",
       "      <th>BIN</th>\n",
       "      <th>BBL</th>\n",
       "      <th>NTA</th>\n",
       "    </tr>\n",
       "  </thead>\n",
       "  <tbody>\n",
       "    <tr>\n",
       "      <th>0</th>\n",
       "      <td>4996</td>\n",
       "      <td>37004</td>\n",
       "      <td>50</td>\n",
       "      <td>0</td>\n",
       "      <td>Volunteers Needed For Rise Up &amp; Stay Put! Home...</td>\n",
       "      <td>737</td>\n",
       "      <td>Building on successful events last summer and ...</td>\n",
       "      <td>NaN</td>\n",
       "      <td>NaN</td>\n",
       "      <td>NaN</td>\n",
       "      <td>...</td>\n",
       "      <td>July 30 2011</td>\n",
       "      <td>approved</td>\n",
       "      <td>NaN</td>\n",
       "      <td>NaN</td>\n",
       "      <td>NaN</td>\n",
       "      <td>NaN</td>\n",
       "      <td>NaN</td>\n",
       "      <td>NaN</td>\n",
       "      <td>NaN</td>\n",
       "      <td>NaN</td>\n",
       "    </tr>\n",
       "    <tr>\n",
       "      <th>1</th>\n",
       "      <td>5008</td>\n",
       "      <td>37036</td>\n",
       "      <td>2</td>\n",
       "      <td>0</td>\n",
       "      <td>Web designer</td>\n",
       "      <td>22</td>\n",
       "      <td>Build a website for an Afghan business</td>\n",
       "      <td>NaN</td>\n",
       "      <td>1.0</td>\n",
       "      <td>Strengthening Communities</td>\n",
       "      <td>...</td>\n",
       "      <td>February 01 2011</td>\n",
       "      <td>approved</td>\n",
       "      <td>NaN</td>\n",
       "      <td>NaN</td>\n",
       "      <td>NaN</td>\n",
       "      <td>NaN</td>\n",
       "      <td>NaN</td>\n",
       "      <td>NaN</td>\n",
       "      <td>NaN</td>\n",
       "      <td>NaN</td>\n",
       "    </tr>\n",
       "    <tr>\n",
       "      <th>2</th>\n",
       "      <td>5016</td>\n",
       "      <td>37143</td>\n",
       "      <td>20</td>\n",
       "      <td>0</td>\n",
       "      <td>Urban Adventures - Ice Skating at Lasker Rink</td>\n",
       "      <td>62</td>\n",
       "      <td>Please join us and the students from Mott Hall...</td>\n",
       "      <td>NaN</td>\n",
       "      <td>1.0</td>\n",
       "      <td>Strengthening Communities</td>\n",
       "      <td>...</td>\n",
       "      <td>January 29 2011</td>\n",
       "      <td>approved</td>\n",
       "      <td>NaN</td>\n",
       "      <td>NaN</td>\n",
       "      <td>NaN</td>\n",
       "      <td>NaN</td>\n",
       "      <td>NaN</td>\n",
       "      <td>NaN</td>\n",
       "      <td>NaN</td>\n",
       "      <td>NaN</td>\n",
       "    </tr>\n",
       "    <tr>\n",
       "      <th>3</th>\n",
       "      <td>5022</td>\n",
       "      <td>37237</td>\n",
       "      <td>500</td>\n",
       "      <td>0</td>\n",
       "      <td>Fight global hunger and support women farmers ...</td>\n",
       "      <td>14</td>\n",
       "      <td>The Oxfam Action Corps is a group of dedicated...</td>\n",
       "      <td>NaN</td>\n",
       "      <td>1.0</td>\n",
       "      <td>Strengthening Communities</td>\n",
       "      <td>...</td>\n",
       "      <td>March 31 2012</td>\n",
       "      <td>approved</td>\n",
       "      <td>NaN</td>\n",
       "      <td>NaN</td>\n",
       "      <td>NaN</td>\n",
       "      <td>NaN</td>\n",
       "      <td>NaN</td>\n",
       "      <td>NaN</td>\n",
       "      <td>NaN</td>\n",
       "      <td>NaN</td>\n",
       "    </tr>\n",
       "    <tr>\n",
       "      <th>4</th>\n",
       "      <td>5055</td>\n",
       "      <td>37425</td>\n",
       "      <td>15</td>\n",
       "      <td>0</td>\n",
       "      <td>Stop 'N' Swap</td>\n",
       "      <td>31</td>\n",
       "      <td>Stop 'N' Swap reduces NYC's waste by finding n...</td>\n",
       "      <td>NaN</td>\n",
       "      <td>4.0</td>\n",
       "      <td>Environment</td>\n",
       "      <td>...</td>\n",
       "      <td>February 05 2011</td>\n",
       "      <td>approved</td>\n",
       "      <td>NaN</td>\n",
       "      <td>NaN</td>\n",
       "      <td>NaN</td>\n",
       "      <td>NaN</td>\n",
       "      <td>NaN</td>\n",
       "      <td>NaN</td>\n",
       "      <td>NaN</td>\n",
       "      <td>NaN</td>\n",
       "    </tr>\n",
       "  </tbody>\n",
       "</table>\n",
       "<p>5 rows × 35 columns</p>\n",
       "</div>"
      ],
      "text/plain": [
       "   opportunity_id  content_id  vol_requests  event_time  \\\n",
       "0            4996       37004            50           0   \n",
       "1            5008       37036             2           0   \n",
       "2            5016       37143            20           0   \n",
       "3            5022       37237           500           0   \n",
       "4            5055       37425            15           0   \n",
       "\n",
       "                                               title  hits  \\\n",
       "0  Volunteers Needed For Rise Up & Stay Put! Home...   737   \n",
       "1                                       Web designer    22   \n",
       "2      Urban Adventures - Ice Skating at Lasker Rink    62   \n",
       "3  Fight global hunger and support women farmers ...    14   \n",
       "4                                      Stop 'N' Swap    31   \n",
       "\n",
       "                                             summary is_priority  category_id  \\\n",
       "0  Building on successful events last summer and ...         NaN          NaN   \n",
       "1             Build a website for an Afghan business         NaN          1.0   \n",
       "2  Please join us and the students from Mott Hall...         NaN          1.0   \n",
       "3  The Oxfam Action Corps is a group of dedicated...         NaN          1.0   \n",
       "4  Stop 'N' Swap reduces NYC's waste by finding n...         NaN          4.0   \n",
       "\n",
       "               category_desc  ...     end_date_date    status Latitude  \\\n",
       "0                        NaN  ...      July 30 2011  approved      NaN   \n",
       "1  Strengthening Communities  ...  February 01 2011  approved      NaN   \n",
       "2  Strengthening Communities  ...   January 29 2011  approved      NaN   \n",
       "3  Strengthening Communities  ...     March 31 2012  approved      NaN   \n",
       "4                Environment  ...  February 05 2011  approved      NaN   \n",
       "\n",
       "   Longitude  Community Board Community Council  Census Tract  BIN  BBL NTA  \n",
       "0        NaN              NaN                NaN          NaN  NaN  NaN NaN  \n",
       "1        NaN              NaN                NaN          NaN  NaN  NaN NaN  \n",
       "2        NaN              NaN                NaN          NaN  NaN  NaN NaN  \n",
       "3        NaN              NaN                NaN          NaN  NaN  NaN NaN  \n",
       "4        NaN              NaN                NaN          NaN  NaN  NaN NaN  \n",
       "\n",
       "[5 rows x 35 columns]"
      ]
     },
     "execution_count": 22,
     "metadata": {},
     "output_type": "execute_result"
    }
   ],
   "source": [
    "# Exploring the first 5 rows:\n",
    "volunteer.head()"
   ]
  },
  {
   "cell_type": "markdown",
   "id": "8f829aef-3f11-45bc-ba91-6d5704cf755a",
   "metadata": {},
   "source": [
    "- Use Pandas `to_datetime()` function on the `volunteer[\"start_date_date\"]` column and store it in a new column called `start_date_converted`."
   ]
  },
  {
   "cell_type": "code",
   "execution_count": 23,
   "id": "a9a7f2b8-119d-48a0-9d77-efb6fe9334b3",
   "metadata": {},
   "outputs": [
    {
     "data": {
      "text/plain": [
       "0        July 30 2011\n",
       "1    February 01 2011\n",
       "2     January 29 2011\n",
       "3    February 14 2011\n",
       "4    February 05 2011\n",
       "Name: start_date_date, dtype: object"
      ]
     },
     "execution_count": 23,
     "metadata": {},
     "output_type": "execute_result"
    }
   ],
   "source": [
    "# Exploring the start_date_date column:\n",
    "volunteer['start_date_date'].head()"
   ]
  },
  {
   "cell_type": "code",
   "execution_count": 24,
   "id": "3f85cc97-82d8-49fb-abe2-099588f6349d",
   "metadata": {},
   "outputs": [],
   "source": [
    "# Parsing the start_date_date column:\n",
    "volunteer['start_date_converted'] = pd.to_datetime(volunteer['start_date_date'], format=\"%B %d %Y\")"
   ]
  },
  {
   "cell_type": "markdown",
   "id": "baf90482-10b4-446b-b0d5-108b75108640",
   "metadata": {},
   "source": [
    "- To retrieve just the month, apply a `lambda` function to `volunteer[\"start_date_converted\"]` that grabs the `.month` attribute from the row. Store this in a new column called `start_date_month`."
   ]
  },
  {
   "cell_type": "code",
   "execution_count": 25,
   "id": "ef100f69-8952-4db6-aadb-b5c83ff30be5",
   "metadata": {},
   "outputs": [
    {
     "data": {
      "text/plain": [
       "0    7\n",
       "1    2\n",
       "2    1\n",
       "3    2\n",
       "4    2\n",
       "Name: start_date_month, dtype: int64"
      ]
     },
     "execution_count": 25,
     "metadata": {},
     "output_type": "execute_result"
    }
   ],
   "source": [
    "# Creating a new column for the month:\n",
    "volunteer['start_date_month'] = volunteer['start_date_converted'].apply(lambda row : row.month)\n",
    "\n",
    "# Exploring the start_date_month column:\n",
    "volunteer['start_date_month'].head()"
   ]
  },
  {
   "cell_type": "code",
   "execution_count": 26,
   "id": "8889b6cd-ec5c-4add-82d9-ade9e24a54a0",
   "metadata": {},
   "outputs": [
    {
     "data": {
      "text/plain": [
       "0    07\n",
       "1    02\n",
       "2    01\n",
       "3    02\n",
       "4    02\n",
       "Name: start_date_month, dtype: object"
      ]
     },
     "execution_count": 26,
     "metadata": {},
     "output_type": "execute_result"
    }
   ],
   "source": [
    "# Another trick to extract the month:\n",
    "volunteer['start_date_month'] = volunteer['start_date_converted'].dt.strftime('%m')\n",
    "\n",
    "# Exploring the start_date_month column:\n",
    "volunteer['start_date_month'].head()"
   ]
  },
  {
   "cell_type": "markdown",
   "id": "577cad96-0479-4f58-aed3-9e27ca11dbe7",
   "metadata": {},
   "source": [
    "- Print the `head()` of just the `start_date_converted` and `start_date_month` columns."
   ]
  },
  {
   "cell_type": "code",
   "execution_count": 27,
   "id": "e47ab793-4c7f-4f78-8fa4-863ac8779f88",
   "metadata": {},
   "outputs": [
    {
     "name": "stdout",
     "output_type": "stream",
     "text": [
      "  start_date_converted start_date_month\n",
      "0           2011-07-30               07\n",
      "1           2011-02-01               02\n",
      "2           2011-01-29               01\n",
      "3           2011-02-14               02\n",
      "4           2011-02-05               02\n"
     ]
    }
   ],
   "source": [
    "# Exploring the start_date_converted and start_date_month columns:\n",
    "print(volunteer[['start_date_converted', 'start_date_month']].head())"
   ]
  },
  {
   "cell_type": "markdown",
   "id": "4549ec44-b45d-4cc1-adc4-2e41fae8ff7a",
   "metadata": {},
   "source": [
    "## 4. Text classification"
   ]
  },
  {
   "cell_type": "markdown",
   "id": "40523274-38e3-496b-ae06-ecff4f879f72",
   "metadata": {},
   "source": [
    "1. Engineering features from text\n",
    "> Though text data is a little more complicated to work with, there's a lot of useful feature engineering you can do with it. One method is to extract the pieces of information that you need: maybe part of a string, or extracting a number, and transforming it into a feature. You can also transform the text itself into features, for use with natural language processing methods or prediction tasks. Let's learn how to extract data from text fields.\n",
    "\n",
    "2. Extraction\n",
    "> The way we're going to extract from strings is using regular expressions. Regular expressions are patterns that can be used to extract patterns from text data. You should already be familiar with regular expressions from the Cleaning Data in Python course, so this should be review. We're going to only focus on extracting numbers from strings. Here we have a string, and we want to extract the temperature digit from it. Notice that this number is a float. We'll need a pattern to extract this float, so let's break down the pattern in re.compile. \"backslash d\" means that we want to grab digits, and the \"plus\" means we want to grab as many as possible. So if there are two next to each other, we want both (like the 75). \"backslash period\" means we want to grab the decimal point, and then there's another \"backslash d plus\" at the end to grab the digits on the right-hand side of the decimal. We then search the string for a matching pattern using re.match, and we can extract it using group().\n",
    "\n",
    "3. Vectorizing text\n",
    "> If you're working with text, you might want to model it in some way. Maybe you want to use document text for classification. In order to do that, we'll need to vectorize the text and transform it into a numerical input that scikit-learn can use. We're going to create a tf/idf vector. tf/idf is a way of vectorizing text that reflects how important a word is in a document beyond how frequently it occurs. It stands for term frequency inverse document frequency and places the weight on words that are ultimately more significant in the entire corpus of words.\n",
    "\n",
    "4. Vectorizing text\n",
    "> Creating tf/idf vectors is relatively straightforward in scikit-learn, and we can use tf/idf vectorizer to do it. Here we have a collection of text. In order to vectorize it, we can simply pass the column of text we want to vectorize into tfidf vectorizer's fit transform method.\n",
    "\n",
    "5. Text classification\n",
    "> Now that we have a vectorized version of text, we can use it for classification. We'll use a Naive Bayes classifier, which is based on Bayes' theorem of conditional probability, which you can see here, and performs well on text classification tasks. Naive Bayes treats each feature as independent from the others, which can be a naive assumption, but this works out well on text data. Because each feature is treated independently, this classifier works well on high-dimensional data and is very efficient.\n",
    "\n",
    "6. Let's practice!\n",
    "> Now it's your turn to extract features from text."
   ]
  },
  {
   "cell_type": "markdown",
   "id": "eff0d08f-2443-49b1-971e-5bb1b981c8d0",
   "metadata": {},
   "source": [
    "### 4.1. Engineering features from strings - extraction"
   ]
  },
  {
   "cell_type": "markdown",
   "id": "a3231ed1-a8ab-443f-8c82-26303732b1c1",
   "metadata": {},
   "source": [
    "The `Length` column in the `hiking` dataset is a column of strings, but contained in the column is the mileage for the hike. We're going to extract this mileage using regular expressions, and then use a lambda in Pandas to apply the extraction to the DataFrame."
   ]
  },
  {
   "cell_type": "markdown",
   "id": "f165ee4b-49d7-4822-ac2e-1f94dbfe8938",
   "metadata": {},
   "source": [
    "- Getting everything ready."
   ]
  },
  {
   "cell_type": "code",
   "execution_count": 28,
   "id": "58e281c7-c1b1-474e-bcf7-419eb74a922b",
   "metadata": {},
   "outputs": [],
   "source": [
    "# Reading the data:\n",
    "hiking = pd.read_json(\"./data/hiking.txt\", dtype={'Length': str})"
   ]
  },
  {
   "cell_type": "code",
   "execution_count": 29,
   "id": "951e874f-1c49-4850-8cb5-a92b2c61301f",
   "metadata": {},
   "outputs": [
    {
     "data": {
      "text/plain": [
       "(33, 11)"
      ]
     },
     "execution_count": 29,
     "metadata": {},
     "output_type": "execute_result"
    }
   ],
   "source": [
    "# Exploring the shape\n",
    "hiking.shape"
   ]
  },
  {
   "cell_type": "code",
   "execution_count": 30,
   "id": "a4ccafdc-9e46-45e9-9514-654fbb7c0fe4",
   "metadata": {},
   "outputs": [
    {
     "data": {
      "text/html": [
       "<div>\n",
       "<style scoped>\n",
       "    .dataframe tbody tr th:only-of-type {\n",
       "        vertical-align: middle;\n",
       "    }\n",
       "\n",
       "    .dataframe tbody tr th {\n",
       "        vertical-align: top;\n",
       "    }\n",
       "\n",
       "    .dataframe thead th {\n",
       "        text-align: right;\n",
       "    }\n",
       "</style>\n",
       "<table border=\"1\" class=\"dataframe\">\n",
       "  <thead>\n",
       "    <tr style=\"text-align: right;\">\n",
       "      <th></th>\n",
       "      <th>Prop_ID</th>\n",
       "      <th>Name</th>\n",
       "      <th>Location</th>\n",
       "      <th>Park_Name</th>\n",
       "      <th>Length</th>\n",
       "      <th>Difficulty</th>\n",
       "      <th>Other_Details</th>\n",
       "      <th>Accessible</th>\n",
       "      <th>Limited_Access</th>\n",
       "      <th>lat</th>\n",
       "      <th>lon</th>\n",
       "    </tr>\n",
       "  </thead>\n",
       "  <tbody>\n",
       "    <tr>\n",
       "      <th>0</th>\n",
       "      <td>B057</td>\n",
       "      <td>Salt Marsh Nature Trail</td>\n",
       "      <td>Enter behind the Salt Marsh Nature Center, loc...</td>\n",
       "      <td>Marine Park</td>\n",
       "      <td>0.8 miles</td>\n",
       "      <td>None</td>\n",
       "      <td>&lt;p&gt;The first half of this mile-long trail foll...</td>\n",
       "      <td>Y</td>\n",
       "      <td>N</td>\n",
       "      <td>NaN</td>\n",
       "      <td>NaN</td>\n",
       "    </tr>\n",
       "    <tr>\n",
       "      <th>1</th>\n",
       "      <td>B073</td>\n",
       "      <td>Lullwater</td>\n",
       "      <td>Enter Park at Lincoln Road and Ocean Avenue en...</td>\n",
       "      <td>Prospect Park</td>\n",
       "      <td>1.0 mile</td>\n",
       "      <td>Easy</td>\n",
       "      <td>Explore the Lullwater to see how nature thrive...</td>\n",
       "      <td>N</td>\n",
       "      <td>N</td>\n",
       "      <td>NaN</td>\n",
       "      <td>NaN</td>\n",
       "    </tr>\n",
       "    <tr>\n",
       "      <th>2</th>\n",
       "      <td>B073</td>\n",
       "      <td>Midwood</td>\n",
       "      <td>Enter Park at Lincoln Road and Ocean Avenue en...</td>\n",
       "      <td>Prospect Park</td>\n",
       "      <td>0.75 miles</td>\n",
       "      <td>Easy</td>\n",
       "      <td>Step back in time with a walk through Brooklyn...</td>\n",
       "      <td>N</td>\n",
       "      <td>N</td>\n",
       "      <td>NaN</td>\n",
       "      <td>NaN</td>\n",
       "    </tr>\n",
       "    <tr>\n",
       "      <th>3</th>\n",
       "      <td>B073</td>\n",
       "      <td>Peninsula</td>\n",
       "      <td>Enter Park at Lincoln Road and Ocean Avenue en...</td>\n",
       "      <td>Prospect Park</td>\n",
       "      <td>0.5 miles</td>\n",
       "      <td>Easy</td>\n",
       "      <td>Discover how the Peninsula has changed over th...</td>\n",
       "      <td>N</td>\n",
       "      <td>N</td>\n",
       "      <td>NaN</td>\n",
       "      <td>NaN</td>\n",
       "    </tr>\n",
       "    <tr>\n",
       "      <th>4</th>\n",
       "      <td>B073</td>\n",
       "      <td>Waterfall</td>\n",
       "      <td>Enter Park at Lincoln Road and Ocean Avenue en...</td>\n",
       "      <td>Prospect Park</td>\n",
       "      <td>0.5 miles</td>\n",
       "      <td>Easy</td>\n",
       "      <td>Trace the source of the Lake on the Waterfall ...</td>\n",
       "      <td>N</td>\n",
       "      <td>N</td>\n",
       "      <td>NaN</td>\n",
       "      <td>NaN</td>\n",
       "    </tr>\n",
       "  </tbody>\n",
       "</table>\n",
       "</div>"
      ],
      "text/plain": [
       "  Prop_ID                     Name  \\\n",
       "0    B057  Salt Marsh Nature Trail   \n",
       "1    B073                Lullwater   \n",
       "2    B073                  Midwood   \n",
       "3    B073                Peninsula   \n",
       "4    B073                Waterfall   \n",
       "\n",
       "                                            Location      Park_Name  \\\n",
       "0  Enter behind the Salt Marsh Nature Center, loc...    Marine Park   \n",
       "1  Enter Park at Lincoln Road and Ocean Avenue en...  Prospect Park   \n",
       "2  Enter Park at Lincoln Road and Ocean Avenue en...  Prospect Park   \n",
       "3  Enter Park at Lincoln Road and Ocean Avenue en...  Prospect Park   \n",
       "4  Enter Park at Lincoln Road and Ocean Avenue en...  Prospect Park   \n",
       "\n",
       "       Length Difficulty                                      Other_Details  \\\n",
       "0   0.8 miles       None  <p>The first half of this mile-long trail foll...   \n",
       "1    1.0 mile       Easy  Explore the Lullwater to see how nature thrive...   \n",
       "2  0.75 miles       Easy  Step back in time with a walk through Brooklyn...   \n",
       "3   0.5 miles       Easy  Discover how the Peninsula has changed over th...   \n",
       "4   0.5 miles       Easy  Trace the source of the Lake on the Waterfall ...   \n",
       "\n",
       "  Accessible Limited_Access  lat  lon  \n",
       "0          Y              N  NaN  NaN  \n",
       "1          N              N  NaN  NaN  \n",
       "2          N              N  NaN  NaN  \n",
       "3          N              N  NaN  NaN  \n",
       "4          N              N  NaN  NaN  "
      ]
     },
     "execution_count": 30,
     "metadata": {},
     "output_type": "execute_result"
    }
   ],
   "source": [
    "# Exploring the first 5 rows:\n",
    "hiking.head()"
   ]
  },
  {
   "cell_type": "markdown",
   "id": "bd6227d8-3435-4fa4-8f28-8098dfec2459",
   "metadata": {},
   "source": [
    "- Create a pattern that will extract numbers and decimals from text, using `\\d+` to get numbers and `\\.` to get decimals, and pass it into `re`'s `compile` function."
   ]
  },
  {
   "cell_type": "markdown",
   "id": "d0f7a8f9-765d-4761-9009-547d713313da",
   "metadata": {},
   "source": [
    "- Use the matched `mile`'s `group()` attribute to extract the matched pattern, making sure to match group `0`, and pass it into `float`."
   ]
  },
  {
   "cell_type": "code",
   "execution_count": 31,
   "id": "a3d6022a-b23f-4cd9-b659-642a0702673b",
   "metadata": {},
   "outputs": [],
   "source": [
    "# Creating a fuction to extract decimals:\n",
    "def return_mileage(length):\n",
    "    \n",
    "    # Creating the pattern:\n",
    "    pattern = re.compile(r\"\\d+\\.\\d+\")\n",
    "    \n",
    "    # Matching the text:\n",
    "    mile = re.match(pattern, length)\n",
    "    \n",
    "    # Returning the mileage:\n",
    "    if mile:\n",
    "        return float(mile.group(0))"
   ]
  },
  {
   "cell_type": "markdown",
   "id": "9403a008-926d-4fe4-951d-d7f0d3a6ad11",
   "metadata": {},
   "source": [
    "- Apply the `return_mileage()` function to the `hiking[\"Length\"]` column."
   ]
  },
  {
   "cell_type": "code",
   "execution_count": 32,
   "id": "500e01e2-af3b-4c4f-bba8-b62013de5ef3",
   "metadata": {},
   "outputs": [],
   "source": [
    "# Extracting the mileage:\n",
    "hiking[\"Length_num\"] = hiking['Length'].apply(lambda row : return_mileage(row))"
   ]
  },
  {
   "cell_type": "code",
   "execution_count": 33,
   "id": "dd93bc16-2e83-48e6-9804-e400e373dd25",
   "metadata": {},
   "outputs": [
    {
     "name": "stdout",
     "output_type": "stream",
     "text": [
      "       Length  Length_num\n",
      "0   0.8 miles        0.80\n",
      "1    1.0 mile        1.00\n",
      "2  0.75 miles        0.75\n",
      "3   0.5 miles        0.50\n",
      "4   0.5 miles        0.50\n"
     ]
    }
   ],
   "source": [
    "# Exploring the data after extraction:\n",
    "print(hiking[[\"Length\", \"Length_num\"]].head())"
   ]
  },
  {
   "cell_type": "markdown",
   "id": "77a3fb15-f154-40a3-bc72-dd6b08deca8a",
   "metadata": {},
   "source": [
    "### 4.2. Engineering features from strings - tf/idf"
   ]
  },
  {
   "cell_type": "markdown",
   "id": "f4af107a-208d-44f5-87c6-e52bb2d85b28",
   "metadata": {},
   "source": [
    "Let's transform the `volunteer` dataset's `title` column into a text vector, to use in a prediction task in the next exercise."
   ]
  },
  {
   "cell_type": "markdown",
   "id": "57466b11-d223-436d-aac5-af82536b2ceb",
   "metadata": {},
   "source": [
    "- Getting everything ready."
   ]
  },
  {
   "cell_type": "code",
   "execution_count": 34,
   "id": "fc4f0bdb-0a2e-48be-9e97-ad1b218e0631",
   "metadata": {},
   "outputs": [],
   "source": [
    "# Reading the data:\n",
    "volunteer = pd.read_csv(\"./data/volunteering.csv\")"
   ]
  },
  {
   "cell_type": "code",
   "execution_count": 35,
   "id": "b0a0f699-8a47-4955-9d69-9f7acc78c932",
   "metadata": {},
   "outputs": [
    {
     "data": {
      "text/plain": [
       "(665, 35)"
      ]
     },
     "execution_count": 35,
     "metadata": {},
     "output_type": "execute_result"
    }
   ],
   "source": [
    "# Exploring the shape:\n",
    "volunteer.shape"
   ]
  },
  {
   "cell_type": "code",
   "execution_count": 36,
   "id": "1a614c21-5ac8-46c6-b1b0-83bfb39f1bf2",
   "metadata": {},
   "outputs": [
    {
     "data": {
      "text/html": [
       "<div>\n",
       "<style scoped>\n",
       "    .dataframe tbody tr th:only-of-type {\n",
       "        vertical-align: middle;\n",
       "    }\n",
       "\n",
       "    .dataframe tbody tr th {\n",
       "        vertical-align: top;\n",
       "    }\n",
       "\n",
       "    .dataframe thead th {\n",
       "        text-align: right;\n",
       "    }\n",
       "</style>\n",
       "<table border=\"1\" class=\"dataframe\">\n",
       "  <thead>\n",
       "    <tr style=\"text-align: right;\">\n",
       "      <th></th>\n",
       "      <th>opportunity_id</th>\n",
       "      <th>content_id</th>\n",
       "      <th>vol_requests</th>\n",
       "      <th>event_time</th>\n",
       "      <th>title</th>\n",
       "      <th>hits</th>\n",
       "      <th>summary</th>\n",
       "      <th>is_priority</th>\n",
       "      <th>category_id</th>\n",
       "      <th>category_desc</th>\n",
       "      <th>...</th>\n",
       "      <th>end_date_date</th>\n",
       "      <th>status</th>\n",
       "      <th>Latitude</th>\n",
       "      <th>Longitude</th>\n",
       "      <th>Community Board</th>\n",
       "      <th>Community Council</th>\n",
       "      <th>Census Tract</th>\n",
       "      <th>BIN</th>\n",
       "      <th>BBL</th>\n",
       "      <th>NTA</th>\n",
       "    </tr>\n",
       "  </thead>\n",
       "  <tbody>\n",
       "    <tr>\n",
       "      <th>0</th>\n",
       "      <td>4996</td>\n",
       "      <td>37004</td>\n",
       "      <td>50</td>\n",
       "      <td>0</td>\n",
       "      <td>Volunteers Needed For Rise Up &amp; Stay Put! Home...</td>\n",
       "      <td>737</td>\n",
       "      <td>Building on successful events last summer and ...</td>\n",
       "      <td>NaN</td>\n",
       "      <td>NaN</td>\n",
       "      <td>NaN</td>\n",
       "      <td>...</td>\n",
       "      <td>July 30 2011</td>\n",
       "      <td>approved</td>\n",
       "      <td>NaN</td>\n",
       "      <td>NaN</td>\n",
       "      <td>NaN</td>\n",
       "      <td>NaN</td>\n",
       "      <td>NaN</td>\n",
       "      <td>NaN</td>\n",
       "      <td>NaN</td>\n",
       "      <td>NaN</td>\n",
       "    </tr>\n",
       "    <tr>\n",
       "      <th>1</th>\n",
       "      <td>5008</td>\n",
       "      <td>37036</td>\n",
       "      <td>2</td>\n",
       "      <td>0</td>\n",
       "      <td>Web designer</td>\n",
       "      <td>22</td>\n",
       "      <td>Build a website for an Afghan business</td>\n",
       "      <td>NaN</td>\n",
       "      <td>1.0</td>\n",
       "      <td>Strengthening Communities</td>\n",
       "      <td>...</td>\n",
       "      <td>February 01 2011</td>\n",
       "      <td>approved</td>\n",
       "      <td>NaN</td>\n",
       "      <td>NaN</td>\n",
       "      <td>NaN</td>\n",
       "      <td>NaN</td>\n",
       "      <td>NaN</td>\n",
       "      <td>NaN</td>\n",
       "      <td>NaN</td>\n",
       "      <td>NaN</td>\n",
       "    </tr>\n",
       "    <tr>\n",
       "      <th>2</th>\n",
       "      <td>5016</td>\n",
       "      <td>37143</td>\n",
       "      <td>20</td>\n",
       "      <td>0</td>\n",
       "      <td>Urban Adventures - Ice Skating at Lasker Rink</td>\n",
       "      <td>62</td>\n",
       "      <td>Please join us and the students from Mott Hall...</td>\n",
       "      <td>NaN</td>\n",
       "      <td>1.0</td>\n",
       "      <td>Strengthening Communities</td>\n",
       "      <td>...</td>\n",
       "      <td>January 29 2011</td>\n",
       "      <td>approved</td>\n",
       "      <td>NaN</td>\n",
       "      <td>NaN</td>\n",
       "      <td>NaN</td>\n",
       "      <td>NaN</td>\n",
       "      <td>NaN</td>\n",
       "      <td>NaN</td>\n",
       "      <td>NaN</td>\n",
       "      <td>NaN</td>\n",
       "    </tr>\n",
       "    <tr>\n",
       "      <th>3</th>\n",
       "      <td>5022</td>\n",
       "      <td>37237</td>\n",
       "      <td>500</td>\n",
       "      <td>0</td>\n",
       "      <td>Fight global hunger and support women farmers ...</td>\n",
       "      <td>14</td>\n",
       "      <td>The Oxfam Action Corps is a group of dedicated...</td>\n",
       "      <td>NaN</td>\n",
       "      <td>1.0</td>\n",
       "      <td>Strengthening Communities</td>\n",
       "      <td>...</td>\n",
       "      <td>March 31 2012</td>\n",
       "      <td>approved</td>\n",
       "      <td>NaN</td>\n",
       "      <td>NaN</td>\n",
       "      <td>NaN</td>\n",
       "      <td>NaN</td>\n",
       "      <td>NaN</td>\n",
       "      <td>NaN</td>\n",
       "      <td>NaN</td>\n",
       "      <td>NaN</td>\n",
       "    </tr>\n",
       "    <tr>\n",
       "      <th>4</th>\n",
       "      <td>5055</td>\n",
       "      <td>37425</td>\n",
       "      <td>15</td>\n",
       "      <td>0</td>\n",
       "      <td>Stop 'N' Swap</td>\n",
       "      <td>31</td>\n",
       "      <td>Stop 'N' Swap reduces NYC's waste by finding n...</td>\n",
       "      <td>NaN</td>\n",
       "      <td>4.0</td>\n",
       "      <td>Environment</td>\n",
       "      <td>...</td>\n",
       "      <td>February 05 2011</td>\n",
       "      <td>approved</td>\n",
       "      <td>NaN</td>\n",
       "      <td>NaN</td>\n",
       "      <td>NaN</td>\n",
       "      <td>NaN</td>\n",
       "      <td>NaN</td>\n",
       "      <td>NaN</td>\n",
       "      <td>NaN</td>\n",
       "      <td>NaN</td>\n",
       "    </tr>\n",
       "  </tbody>\n",
       "</table>\n",
       "<p>5 rows × 35 columns</p>\n",
       "</div>"
      ],
      "text/plain": [
       "   opportunity_id  content_id  vol_requests  event_time  \\\n",
       "0            4996       37004            50           0   \n",
       "1            5008       37036             2           0   \n",
       "2            5016       37143            20           0   \n",
       "3            5022       37237           500           0   \n",
       "4            5055       37425            15           0   \n",
       "\n",
       "                                               title  hits  \\\n",
       "0  Volunteers Needed For Rise Up & Stay Put! Home...   737   \n",
       "1                                       Web designer    22   \n",
       "2      Urban Adventures - Ice Skating at Lasker Rink    62   \n",
       "3  Fight global hunger and support women farmers ...    14   \n",
       "4                                      Stop 'N' Swap    31   \n",
       "\n",
       "                                             summary is_priority  category_id  \\\n",
       "0  Building on successful events last summer and ...         NaN          NaN   \n",
       "1             Build a website for an Afghan business         NaN          1.0   \n",
       "2  Please join us and the students from Mott Hall...         NaN          1.0   \n",
       "3  The Oxfam Action Corps is a group of dedicated...         NaN          1.0   \n",
       "4  Stop 'N' Swap reduces NYC's waste by finding n...         NaN          4.0   \n",
       "\n",
       "               category_desc  ...     end_date_date    status Latitude  \\\n",
       "0                        NaN  ...      July 30 2011  approved      NaN   \n",
       "1  Strengthening Communities  ...  February 01 2011  approved      NaN   \n",
       "2  Strengthening Communities  ...   January 29 2011  approved      NaN   \n",
       "3  Strengthening Communities  ...     March 31 2012  approved      NaN   \n",
       "4                Environment  ...  February 05 2011  approved      NaN   \n",
       "\n",
       "   Longitude  Community Board Community Council  Census Tract  BIN  BBL NTA  \n",
       "0        NaN              NaN                NaN          NaN  NaN  NaN NaN  \n",
       "1        NaN              NaN                NaN          NaN  NaN  NaN NaN  \n",
       "2        NaN              NaN                NaN          NaN  NaN  NaN NaN  \n",
       "3        NaN              NaN                NaN          NaN  NaN  NaN NaN  \n",
       "4        NaN              NaN                NaN          NaN  NaN  NaN NaN  \n",
       "\n",
       "[5 rows x 35 columns]"
      ]
     },
     "execution_count": 36,
     "metadata": {},
     "output_type": "execute_result"
    }
   ],
   "source": [
    "# Exploring the first 5 rows:\n",
    "volunteer.head()"
   ]
  },
  {
   "cell_type": "markdown",
   "id": "4ea5f2fb-1133-4e62-a6fc-e5cb924ed7d4",
   "metadata": {},
   "source": [
    "- Store the `volunteer[\"title\"]` column in a variable named `title_text`."
   ]
  },
  {
   "cell_type": "code",
   "execution_count": 37,
   "id": "62752106-28fe-4c77-9459-fb48a21a21df",
   "metadata": {},
   "outputs": [],
   "source": [
    "# Creating a view from the title column:\n",
    "title_text = volunteer[\"title\"]"
   ]
  },
  {
   "cell_type": "markdown",
   "id": "7b0dfa36-47d4-4d10-b336-463e290a33bb",
   "metadata": {},
   "source": [
    "- Use the `tfidf_vec` vectorizer's `.fit_transform()` function on `title_text` to transform the text into a tf-idf vector."
   ]
  },
  {
   "cell_type": "code",
   "execution_count": 38,
   "id": "958ba51d-3630-4e05-abad-6d6f7ed957b5",
   "metadata": {},
   "outputs": [],
   "source": [
    "# Initializing the vectorizer:\n",
    "tfidf_vec = TfidfVectorizer()"
   ]
  },
  {
   "cell_type": "code",
   "execution_count": 39,
   "id": "4fd9f98f-42c1-493d-9064-05d8141646cf",
   "metadata": {},
   "outputs": [],
   "source": [
    "# Vectorizing the title column:\n",
    "text_tfidf = tfidf_vec.fit_transform(title_text)"
   ]
  },
  {
   "cell_type": "markdown",
   "id": "f757864f-6264-4547-9e83-b908d784b452",
   "metadata": {},
   "source": [
    "### 4.3. Text classification using tf/idf vectors"
   ]
  },
  {
   "cell_type": "markdown",
   "id": "9a4bdc18-0ea1-4669-a005-b55621668847",
   "metadata": {},
   "source": [
    "Now that we've encoded the `volunteer` dataset's `title` column into tf/idf vectors, let's use those vectors to try to predict the `category_desc` column."
   ]
  },
  {
   "cell_type": "code",
   "execution_count": 40,
   "id": "a9f45ffd-3435-41aa-b9bc-cd51fe4ad3bf",
   "metadata": {},
   "outputs": [],
   "source": [
    "# Creating a mask to filter out missing values from the category_desc column:\n",
    "not_null = volunteer['category_id'].notna()"
   ]
  },
  {
   "cell_type": "code",
   "execution_count": 41,
   "id": "b0d94d78-190e-43f5-99ea-821fc0f96aba",
   "metadata": {},
   "outputs": [],
   "source": [
    "# Initializing the model:\n",
    "nb = GaussianNB()"
   ]
  },
  {
   "cell_type": "markdown",
   "id": "79fcb22a-f349-4648-afe5-60b81fbff896",
   "metadata": {},
   "source": [
    "- Using `train_test_split`, split the `text_tfidf` vector, along with your `y` variable, into training and test sets. Set the `stratify` parameter equal to `y`, since the class distribution is uneven. Notice that we have to run the `.toarray()` method on the tf/idf vector, in order to get in it the proper format for scikit-learn."
   ]
  },
  {
   "cell_type": "code",
   "execution_count": 42,
   "id": "9bcefce6-c218-4b77-844f-a86b8b6ab8e4",
   "metadata": {},
   "outputs": [],
   "source": [
    "# Creating the target column (y):\n",
    "y = volunteer['category_desc'][not_null].copy()"
   ]
  },
  {
   "cell_type": "code",
   "execution_count": 43,
   "id": "92335ae2-6f91-4e1c-8f62-4e6eb0b3c423",
   "metadata": {},
   "outputs": [],
   "source": [
    "# Creating the feature matrix (X):\n",
    "X = text_tfidf.toarray()[not_null].copy()"
   ]
  },
  {
   "cell_type": "code",
   "execution_count": 44,
   "id": "0553861e-2735-45cd-927b-0fd51e37ea45",
   "metadata": {},
   "outputs": [],
   "source": [
    "# Splitting the data into training & hold=out sets:\n",
    "X_train, X_test, y_train, y_test = train_test_split(X, y, stratify=y)"
   ]
  },
  {
   "cell_type": "markdown",
   "id": "859cf694-1d3f-4b95-a1fd-40b0f04fb992",
   "metadata": {},
   "source": [
    "- Use Naive Bayes' `.fit()` method on the `X_train` and `y_train` variables."
   ]
  },
  {
   "cell_type": "code",
   "execution_count": 45,
   "id": "f60c6f02-fad7-46d4-9304-65211d286366",
   "metadata": {},
   "outputs": [
    {
     "data": {
      "text/plain": [
       "GaussianNB()"
      ]
     },
     "execution_count": 45,
     "metadata": {},
     "output_type": "execute_result"
    }
   ],
   "source": [
    "# Fitting the model:\n",
    "nb.fit(X_train, y_train)"
   ]
  },
  {
   "cell_type": "markdown",
   "id": "3c82e31d-5168-4be5-8647-26b71ea64ff7",
   "metadata": {},
   "source": [
    "- Print out the `.score()` of the `X_test` and `y_test` variables."
   ]
  },
  {
   "cell_type": "code",
   "execution_count": 46,
   "id": "8bf235b5-2f31-43ba-9f00-fc721ac90c02",
   "metadata": {},
   "outputs": [
    {
     "name": "stdout",
     "output_type": "stream",
     "text": [
      "0.5419354838709678\n"
     ]
    }
   ],
   "source": [
    "# Evaaluating the model performance:\n",
    "print(nb.score(X_test, y_test))"
   ]
  }
 ],
 "metadata": {
  "kernelspec": {
   "display_name": "Python 3 (ipykernel)",
   "language": "python",
   "name": "python3"
  },
  "language_info": {
   "codemirror_mode": {
    "name": "ipython",
    "version": 3
   },
   "file_extension": ".py",
   "mimetype": "text/x-python",
   "name": "python",
   "nbconvert_exporter": "python",
   "pygments_lexer": "ipython3",
   "version": "3.9.7"
  }
 },
 "nbformat": 4,
 "nbformat_minor": 5
}
